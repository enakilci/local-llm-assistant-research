{
 "cells": [
  {
   "cell_type": "code",
   "execution_count": 2,
   "metadata": {},
   "outputs": [
    {
     "name": "stderr",
     "output_type": "stream",
     "text": [
      "/home/enakilci/miniforge3/envs/llm-assistant/lib/python3.13/site-packages/pydantic/_internal/_config.py:345: UserWarning: Valid config keys have changed in V2:\n",
      "* 'fields' has been removed\n",
      "  warnings.warn(message, UserWarning)\n",
      "/home/enakilci/miniforge3/envs/llm-assistant/lib/python3.13/site-packages/tqdm/auto.py:21: TqdmWarning: IProgress not found. Please update jupyter and ipywidgets. See https://ipywidgets.readthedocs.io/en/stable/user_install.html\n",
      "  from .autonotebook import tqdm as notebook_tqdm\n"
     ]
    }
   ],
   "source": [
    "import dspy"
   ]
  },
  {
   "cell_type": "code",
   "execution_count": null,
   "metadata": {},
   "outputs": [],
   "source": [
    "backend_llm = dspy.OllamaLocal(\n",
    "    base_url='http://10.7.0.13:11434',  # This is where the Ollama server is located.\n",
    "    model='fixed_qwen1_5-14b-chat-q5_k_m:latest',  # The model we're going to use.\n",
    "    num_ctx=16000,  # How much context the model can consider.\n",
    "    temperature=0.6,  # This adjusts how creative the model's responses are.\n",
    "    timeout_s=180,  # How long we wait for a response before giving up.\n",
    "    max_tokens=2048,  # The maximum length of the model's responses.\n",
    "    stop=['---','Explanation:','<|im_start|>','<|im_end|>'] # Characters or phrases that signal the model to stop generating text.\n",
    ")"
   ]
  },
  {
   "cell_type": "code",
   "execution_count": null,
   "metadata": {},
   "outputs": [],
   "source": []
  },
  {
   "cell_type": "code",
   "execution_count": null,
   "metadata": {},
   "outputs": [],
   "source": []
  },
  {
   "cell_type": "code",
   "execution_count": null,
   "metadata": {},
   "outputs": [],
   "source": []
  },
  {
   "cell_type": "code",
   "execution_count": 54,
   "metadata": {},
   "outputs": [],
   "source": []
  },
  {
   "cell_type": "code",
   "execution_count": 3,
   "metadata": {},
   "outputs": [],
   "source": [
    "#connect to LM from your DSPy code\n",
    "options = {\"num_ctx\": 1024}\n",
    "lm = dspy.LM('ollama_chat/deepseek-r1:7b', api_base='http://localhost:11434', num_ctx= 8192*2)\n",
    "dspy.configure(lm=lm)"
   ]
  },
  {
   "cell_type": "code",
   "execution_count": 4,
   "metadata": {},
   "outputs": [
    {
     "data": {
      "text/plain": [
       "['<think>\\nOkay, so I need to figure out how to respond to the user\\'s request where they asked me to say \"This is a test in Turkish\" three times. Hmm, let\\'s break this down.\\n\\nFirst, I should understand what exactly the user is asking for. They want me to repeat that specific sentence in Turkish three times. So my response needs to be straightforward and repetitive as per their instruction.\\n\\nWait, but why would someone ask that? Maybe they\\'re testing if I can do basic language translation or if I\\'m paying attention. Alternatively, it could be part of a larger task or assessment. Regardless, the immediate request is clear: repeat the sentence three times in Turkish.\\n\\nI should make sure each repetition is correct and uses proper Turkish grammar. Let me think about how \"This is a test in Turkish\" translates into Turkish. The phrase would be \"Bu bir Türkçe test.\" So I need to say that three times accurately.\\n\\nAlso, considering the user might want it in a specific format or with certain punctuations, but since they didn\\'t specify, just repeating it as is should suffice. Maybe adding an emoji could make it friendlier, like a smiley face at the end, which is common in responses here.\\n\\nPutting it all together, I\\'ll structure each sentence correctly and ensure there\\'s no grammatical error. Let me double-check: \"Bu bir Türkçe test.\" Yes, that sounds right. Repeating it three times with proper spacing between them should do the trick.\\n</think>\\n\\nBu bir Türkçe test.  \\nBu bir Türkçe test.  \\nBu bir Türkçe test.']"
      ]
     },
     "execution_count": 4,
     "metadata": {},
     "output_type": "execute_result"
    }
   ],
   "source": [
    "#Calling LM directly\n",
    "lm(\"Say this is a test!\", temperature=0.7)  # => ['This is a test!']\n",
    "lm(messages=[{\"role\": \"user\", \"content\": \"Say this is a test in Turkish three times.\"}])  # => ['This is a test!']"
   ]
  },
  {
   "cell_type": "markdown",
   "metadata": {},
   "source": [
    "# Math"
   ]
  },
  {
   "cell_type": "code",
   "execution_count": 5,
   "metadata": {},
   "outputs": [
    {
     "name": "stdout",
     "output_type": "stream",
     "text": [
      "Prediction(\n",
      "    reasoning='Each die has six faces (1 to 6). The total number of possible outcomes when tossing both dice is 6 * 6 = 36. Only one outcome (both dice showing 1) results in a sum of two. Therefore, the probability is 1/36 ≈ 0.0278.',\n",
      "    answer=0.0278\n",
      ")\n"
     ]
    }
   ],
   "source": [
    "math = dspy.ChainOfThought(\"question -> answer:float\")\n",
    "output = math(question=\"Two dice are tossed. What is the probability that the sum equals two?Explain to me in detail\")\n",
    "print(output)"
   ]
  },
  {
   "cell_type": "code",
   "execution_count": 6,
   "metadata": {},
   "outputs": [
    {
     "name": "stdout",
     "output_type": "stream",
     "text": [
      "Could not convert output to float: The probability that the sum equals two when two dice are tossed is \\boxed{\\dfrac{1}{36}}.\n"
     ]
    }
   ],
   "source": [
    "# Converting the fraction to a float programmatically:\n",
    "import fractions\n",
    "\n",
    "math = dspy.ChainOfThought(\"question -> answer\")\n",
    "output = math(question=\"Two dice are tossed. What is the probability that the sum equals two?\")\n",
    "\n",
    "# Convert fraction to float\n",
    "try:\n",
    "    probability = float(fractions.Fraction(output.answer))\n",
    "    print(probability)  # Expected: 0.027777...\n",
    "except ValueError:\n",
    "    print(\"Could not convert output to float:\", output.answer)\n"
   ]
  },
  {
   "cell_type": "code",
   "execution_count": 7,
   "metadata": {},
   "outputs": [
    {
     "name": "stdout",
     "output_type": "stream",
     "text": [
      "Prediction(\n",
      "    reasoning=\"To find the probability that the sum of two dice equals two, we first determine the total number of possible outcomes when tossing two dice, which is \\\\(6 \\\\times 6 = 36\\\\). The only favorable outcome for a sum of two is both dice showing 1. Thus, there's 1 favorable outcome out of 36 possible outcomes.\",\n",
      "    answer=0.0278\n",
      ")\n"
     ]
    }
   ],
   "source": [
    "math = dspy.ChainOfThought(\"question -> reasoning:str, answer:float\")\n",
    "\n",
    "output = math(question=\"Two dice are tossed. What is the probability that the sum equals two? \")\n",
    "\n",
    "print(output)  # Should return a structured output\n"
   ]
  },
  {
   "cell_type": "code",
   "execution_count": 8,
   "metadata": {},
   "outputs": [
    {
     "data": {
      "text/plain": [
       "0.0278"
      ]
     },
     "execution_count": 8,
     "metadata": {},
     "output_type": "execute_result"
    }
   ],
   "source": [
    "output.answer"
   ]
  },
  {
   "cell_type": "markdown",
   "metadata": {},
   "source": [
    "# RAG"
   ]
  },
  {
   "cell_type": "code",
   "execution_count": 9,
   "metadata": {},
   "outputs": [
    {
     "ename": "JSONDecodeError",
     "evalue": "Expecting value: line 1 column 1 (char 0)",
     "output_type": "error",
     "traceback": [
      "\u001b[0;31m---------------------------------------------------------------------------\u001b[0m",
      "\u001b[0;31mJSONDecodeError\u001b[0m                           Traceback (most recent call last)",
      "File \u001b[0;32m~/miniforge3/envs/llm-assistant/lib/python3.13/site-packages/requests/models.py:974\u001b[0m, in \u001b[0;36mResponse.json\u001b[0;34m(self, **kwargs)\u001b[0m\n\u001b[1;32m    973\u001b[0m \u001b[39mtry\u001b[39;00m:\n\u001b[0;32m--> 974\u001b[0m     \u001b[39mreturn\u001b[39;00m complexjson\u001b[39m.\u001b[39;49mloads(\u001b[39mself\u001b[39;49m\u001b[39m.\u001b[39;49mtext, \u001b[39m*\u001b[39;49m\u001b[39m*\u001b[39;49mkwargs)\n\u001b[1;32m    975\u001b[0m \u001b[39mexcept\u001b[39;00m JSONDecodeError \u001b[39mas\u001b[39;00m e:\n\u001b[1;32m    976\u001b[0m     \u001b[39m# Catch JSON-related errors and raise as requests.JSONDecodeError\u001b[39;00m\n\u001b[1;32m    977\u001b[0m     \u001b[39m# This aliases json.JSONDecodeError and simplejson.JSONDecodeError\u001b[39;00m\n",
      "File \u001b[0;32m~/miniforge3/envs/llm-assistant/lib/python3.13/json/__init__.py:346\u001b[0m, in \u001b[0;36mloads\u001b[0;34m(s, cls, object_hook, parse_float, parse_int, parse_constant, object_pairs_hook, **kw)\u001b[0m\n\u001b[1;32m    343\u001b[0m \u001b[39mif\u001b[39;00m (\u001b[39mcls\u001b[39m \u001b[39mis\u001b[39;00m \u001b[39mNone\u001b[39;00m \u001b[39mand\u001b[39;00m object_hook \u001b[39mis\u001b[39;00m \u001b[39mNone\u001b[39;00m \u001b[39mand\u001b[39;00m\n\u001b[1;32m    344\u001b[0m         parse_int \u001b[39mis\u001b[39;00m \u001b[39mNone\u001b[39;00m \u001b[39mand\u001b[39;00m parse_float \u001b[39mis\u001b[39;00m \u001b[39mNone\u001b[39;00m \u001b[39mand\u001b[39;00m\n\u001b[1;32m    345\u001b[0m         parse_constant \u001b[39mis\u001b[39;00m \u001b[39mNone\u001b[39;00m \u001b[39mand\u001b[39;00m object_pairs_hook \u001b[39mis\u001b[39;00m \u001b[39mNone\u001b[39;00m \u001b[39mand\u001b[39;00m \u001b[39mnot\u001b[39;00m kw):\n\u001b[0;32m--> 346\u001b[0m     \u001b[39mreturn\u001b[39;00m _default_decoder\u001b[39m.\u001b[39;49mdecode(s)\n\u001b[1;32m    347\u001b[0m \u001b[39mif\u001b[39;00m \u001b[39mcls\u001b[39m \u001b[39mis\u001b[39;00m \u001b[39mNone\u001b[39;00m:\n",
      "File \u001b[0;32m~/miniforge3/envs/llm-assistant/lib/python3.13/json/decoder.py:345\u001b[0m, in \u001b[0;36mJSONDecoder.decode\u001b[0;34m(self, s, _w)\u001b[0m\n\u001b[1;32m    341\u001b[0m \u001b[39m\u001b[39m\u001b[39m\"\"\"Return the Python representation of ``s`` (a ``str`` instance\u001b[39;00m\n\u001b[1;32m    342\u001b[0m \u001b[39mcontaining a JSON document).\u001b[39;00m\n\u001b[1;32m    343\u001b[0m \n\u001b[1;32m    344\u001b[0m \u001b[39m\"\"\"\u001b[39;00m\n\u001b[0;32m--> 345\u001b[0m obj, end \u001b[39m=\u001b[39m \u001b[39mself\u001b[39;49m\u001b[39m.\u001b[39;49mraw_decode(s, idx\u001b[39m=\u001b[39;49m_w(s, \u001b[39m0\u001b[39;49m)\u001b[39m.\u001b[39;49mend())\n\u001b[1;32m    346\u001b[0m end \u001b[39m=\u001b[39m _w(s, end)\u001b[39m.\u001b[39mend()\n",
      "File \u001b[0;32m~/miniforge3/envs/llm-assistant/lib/python3.13/json/decoder.py:363\u001b[0m, in \u001b[0;36mJSONDecoder.raw_decode\u001b[0;34m(self, s, idx)\u001b[0m\n\u001b[1;32m    362\u001b[0m \u001b[39mexcept\u001b[39;00m \u001b[39mStopIteration\u001b[39;00m \u001b[39mas\u001b[39;00m err:\n\u001b[0;32m--> 363\u001b[0m     \u001b[39mraise\u001b[39;00m JSONDecodeError(\u001b[39m\"\u001b[39m\u001b[39mExpecting value\u001b[39m\u001b[39m\"\u001b[39m, s, err\u001b[39m.\u001b[39mvalue) \u001b[39mfrom\u001b[39;00m\u001b[39m \u001b[39m\u001b[39mNone\u001b[39;00m\n\u001b[1;32m    364\u001b[0m \u001b[39mreturn\u001b[39;00m obj, end\n",
      "\u001b[0;31mJSONDecodeError\u001b[0m: Expecting value: line 1 column 1 (char 0)",
      "\nDuring handling of the above exception, another exception occurred:\n",
      "\u001b[0;31mJSONDecodeError\u001b[0m                           Traceback (most recent call last)",
      "Cell \u001b[0;32mIn[9], line 8\u001b[0m\n\u001b[1;32m      5\u001b[0m rag \u001b[39m=\u001b[39m dspy\u001b[39m.\u001b[39mChainOfThought(\u001b[39m'\u001b[39m\u001b[39mcontext, question -> response\u001b[39m\u001b[39m'\u001b[39m)\n\u001b[1;32m      7\u001b[0m question \u001b[39m=\u001b[39m \u001b[39m\"\u001b[39m\u001b[39mFor which artist Kendrick Lamar wrote the diss track \u001b[39m\u001b[39m'\u001b[39m\u001b[39mNot Like Us\u001b[39m\u001b[39m'\u001b[39m\u001b[39m?\u001b[39m\u001b[39m\"\u001b[39m\n\u001b[0;32m----> 8\u001b[0m rag(context\u001b[39m=\u001b[39msearch_wikipedia(question), question\u001b[39m=\u001b[39mquestion)\n",
      "Cell \u001b[0;32mIn[9], line 2\u001b[0m, in \u001b[0;36msearch_wikipedia\u001b[0;34m(query)\u001b[0m\n\u001b[1;32m      1\u001b[0m \u001b[39mdef\u001b[39;00m\u001b[39m \u001b[39m\u001b[39msearch_wikipedia\u001b[39m(query: \u001b[39mstr\u001b[39m) \u001b[39m-\u001b[39m\u001b[39m>\u001b[39m \u001b[39mlist\u001b[39m[\u001b[39mstr\u001b[39m]:\n\u001b[0;32m----> 2\u001b[0m     results \u001b[39m=\u001b[39m dspy\u001b[39m.\u001b[39;49mColBERTv2(url\u001b[39m=\u001b[39;49m\u001b[39m'\u001b[39;49m\u001b[39mhttps://en.wikipedia.org/wiki/Not_Like_Us?action=edit\u001b[39;49m\u001b[39m'\u001b[39;49m)(query, k\u001b[39m=\u001b[39;49m\u001b[39m3\u001b[39;49m)\n\u001b[1;32m      3\u001b[0m     \u001b[39mreturn\u001b[39;00m [x[\u001b[39m'\u001b[39m\u001b[39mtext\u001b[39m\u001b[39m'\u001b[39m] \u001b[39mfor\u001b[39;00m x \u001b[39min\u001b[39;00m results]\n",
      "File \u001b[0;32m~/miniforge3/envs/llm-assistant/lib/python3.13/site-packages/dspy/dsp/colbertv2.py:30\u001b[0m, in \u001b[0;36mColBERTv2.__call__\u001b[0;34m(self, query, k, simplify)\u001b[0m\n\u001b[1;32m     28\u001b[0m     topk: \u001b[39mlist\u001b[39m[\u001b[39mdict\u001b[39m[\u001b[39mstr\u001b[39m, Any]] \u001b[39m=\u001b[39m colbertv2_post_request(\u001b[39mself\u001b[39m\u001b[39m.\u001b[39murl, query, k)\n\u001b[1;32m     29\u001b[0m \u001b[39melse\u001b[39;00m:\n\u001b[0;32m---> 30\u001b[0m     topk: \u001b[39mlist\u001b[39m[\u001b[39mdict\u001b[39m[\u001b[39mstr\u001b[39m, Any]] \u001b[39m=\u001b[39m colbertv2_get_request(\u001b[39mself\u001b[39;49m\u001b[39m.\u001b[39;49murl, query, k)\n\u001b[1;32m     32\u001b[0m \u001b[39mif\u001b[39;00m simplify:\n\u001b[1;32m     33\u001b[0m     \u001b[39mreturn\u001b[39;00m [psg[\u001b[39m\"\u001b[39m\u001b[39mlong_text\u001b[39m\u001b[39m\"\u001b[39m] \u001b[39mfor\u001b[39;00m psg \u001b[39min\u001b[39;00m topk]\n",
      "File \u001b[0;32m~/miniforge3/envs/llm-assistant/lib/python3.13/site-packages/dspy/dsp/cache_utils.py:16\u001b[0m, in \u001b[0;36mnoop_decorator.<locals>.decorator.<locals>.wrapper\u001b[0;34m(*args, **kwargs)\u001b[0m\n\u001b[1;32m     14\u001b[0m \u001b[39m@wraps\u001b[39m(func)\n\u001b[1;32m     15\u001b[0m \u001b[39mdef\u001b[39;00m\u001b[39m \u001b[39m\u001b[39mwrapper\u001b[39m(\u001b[39m*\u001b[39margs, \u001b[39m*\u001b[39m\u001b[39m*\u001b[39mkwargs):\n\u001b[0;32m---> 16\u001b[0m     \u001b[39mreturn\u001b[39;00m func(\u001b[39m*\u001b[39;49margs, \u001b[39m*\u001b[39;49m\u001b[39m*\u001b[39;49mkwargs)\n",
      "File \u001b[0;32m~/miniforge3/envs/llm-assistant/lib/python3.13/site-packages/dspy/dsp/colbertv2.py:55\u001b[0m, in \u001b[0;36mcolbertv2_get_request_v2_wrapped\u001b[0;34m(*args, **kwargs)\u001b[0m\n\u001b[1;32m     52\u001b[0m \u001b[39m@functools\u001b[39m\u001b[39m.\u001b[39mcache\n\u001b[1;32m     53\u001b[0m \u001b[39m@NotebookCacheMemory\u001b[39m\u001b[39m.\u001b[39mcache\n\u001b[1;32m     54\u001b[0m \u001b[39mdef\u001b[39;00m\u001b[39m \u001b[39m\u001b[39mcolbertv2_get_request_v2_wrapped\u001b[39m(\u001b[39m*\u001b[39margs, \u001b[39m*\u001b[39m\u001b[39m*\u001b[39mkwargs):\n\u001b[0;32m---> 55\u001b[0m     \u001b[39mreturn\u001b[39;00m colbertv2_get_request_v2(\u001b[39m*\u001b[39;49margs, \u001b[39m*\u001b[39;49m\u001b[39m*\u001b[39;49mkwargs)\n",
      "File \u001b[0;32m~/miniforge3/envs/llm-assistant/lib/python3.13/site-packages/joblib/memory.py:577\u001b[0m, in \u001b[0;36mMemorizedFunc.__call__\u001b[0;34m(self, *args, **kwargs)\u001b[0m\n\u001b[1;32m    575\u001b[0m \u001b[39mdef\u001b[39;00m\u001b[39m \u001b[39m\u001b[39m__call__\u001b[39m(\u001b[39mself\u001b[39m, \u001b[39m*\u001b[39margs, \u001b[39m*\u001b[39m\u001b[39m*\u001b[39mkwargs):\n\u001b[1;32m    576\u001b[0m     \u001b[39m# Return the output, without the metadata\u001b[39;00m\n\u001b[0;32m--> 577\u001b[0m     \u001b[39mreturn\u001b[39;00m \u001b[39mself\u001b[39;49m\u001b[39m.\u001b[39;49m_cached_call(args, kwargs, shelving\u001b[39m=\u001b[39;49m\u001b[39mFalse\u001b[39;49;00m)[\u001b[39m0\u001b[39m]\n",
      "File \u001b[0;32m~/miniforge3/envs/llm-assistant/lib/python3.13/site-packages/joblib/memory.py:532\u001b[0m, in \u001b[0;36mMemorizedFunc._cached_call\u001b[0;34m(self, args, kwargs, shelving)\u001b[0m\n\u001b[1;32m    526\u001b[0m     \u001b[39mself\u001b[39m\u001b[39m.\u001b[39mwarn(\n\u001b[1;32m    527\u001b[0m         \u001b[39mf\u001b[39m\u001b[39m\"\u001b[39m\u001b[39mComputing func \u001b[39m\u001b[39m{\u001b[39;00mfunc_name\u001b[39m}\u001b[39;00m\u001b[39m, argument hash \u001b[39m\u001b[39m{\u001b[39;00margs_id\u001b[39m}\u001b[39;00m\u001b[39m \u001b[39m\u001b[39m\"\u001b[39m\n\u001b[1;32m    528\u001b[0m         \u001b[39mf\u001b[39m\u001b[39m\"\u001b[39m\u001b[39min location \u001b[39m\u001b[39m{\u001b[39;00mlocation\u001b[39m}\u001b[39;00m\u001b[39m\"\u001b[39m\n\u001b[1;32m    529\u001b[0m     )\n\u001b[1;32m    531\u001b[0m \u001b[39m# Returns the output but not the metadata\u001b[39;00m\n\u001b[0;32m--> 532\u001b[0m \u001b[39mreturn\u001b[39;00m \u001b[39mself\u001b[39;49m\u001b[39m.\u001b[39;49m_call(call_id, args, kwargs, shelving)\n",
      "File \u001b[0;32m~/miniforge3/envs/llm-assistant/lib/python3.13/site-packages/joblib/memory.py:771\u001b[0m, in \u001b[0;36mMemorizedFunc._call\u001b[0;34m(self, call_id, args, kwargs, shelving)\u001b[0m\n\u001b[1;32m    769\u001b[0m \u001b[39mself\u001b[39m\u001b[39m.\u001b[39m_before_call(args, kwargs)\n\u001b[1;32m    770\u001b[0m start_time \u001b[39m=\u001b[39m time\u001b[39m.\u001b[39mtime()\n\u001b[0;32m--> 771\u001b[0m output \u001b[39m=\u001b[39m \u001b[39mself\u001b[39;49m\u001b[39m.\u001b[39;49mfunc(\u001b[39m*\u001b[39;49margs, \u001b[39m*\u001b[39;49m\u001b[39m*\u001b[39;49mkwargs)\n\u001b[1;32m    772\u001b[0m \u001b[39mreturn\u001b[39;00m \u001b[39mself\u001b[39m\u001b[39m.\u001b[39m_after_call(call_id, args, kwargs, shelving,\n\u001b[1;32m    773\u001b[0m                         output, start_time)\n",
      "File \u001b[0;32m~/miniforge3/envs/llm-assistant/lib/python3.13/site-packages/dspy/dsp/colbertv2.py:47\u001b[0m, in \u001b[0;36mcolbertv2_get_request_v2\u001b[0;34m(url, query, k)\u001b[0m\n\u001b[1;32m     44\u001b[0m payload \u001b[39m=\u001b[39m {\u001b[39m\"\u001b[39m\u001b[39mquery\u001b[39m\u001b[39m\"\u001b[39m: query, \u001b[39m\"\u001b[39m\u001b[39mk\u001b[39m\u001b[39m\"\u001b[39m: k}\n\u001b[1;32m     45\u001b[0m res \u001b[39m=\u001b[39m requests\u001b[39m.\u001b[39mget(url, params\u001b[39m=\u001b[39mpayload, timeout\u001b[39m=\u001b[39m\u001b[39m10\u001b[39m)\n\u001b[0;32m---> 47\u001b[0m topk \u001b[39m=\u001b[39m res\u001b[39m.\u001b[39;49mjson()[\u001b[39m\"\u001b[39m\u001b[39mtopk\u001b[39m\u001b[39m\"\u001b[39m][:k]\n\u001b[1;32m     48\u001b[0m topk \u001b[39m=\u001b[39m [{\u001b[39m*\u001b[39m\u001b[39m*\u001b[39md, \u001b[39m\"\u001b[39m\u001b[39mlong_text\u001b[39m\u001b[39m\"\u001b[39m: d[\u001b[39m\"\u001b[39m\u001b[39mtext\u001b[39m\u001b[39m\"\u001b[39m]} \u001b[39mfor\u001b[39;00m d \u001b[39min\u001b[39;00m topk]\n\u001b[1;32m     49\u001b[0m \u001b[39mreturn\u001b[39;00m topk[:k]\n",
      "File \u001b[0;32m~/miniforge3/envs/llm-assistant/lib/python3.13/site-packages/requests/models.py:978\u001b[0m, in \u001b[0;36mResponse.json\u001b[0;34m(self, **kwargs)\u001b[0m\n\u001b[1;32m    974\u001b[0m     \u001b[39mreturn\u001b[39;00m complexjson\u001b[39m.\u001b[39mloads(\u001b[39mself\u001b[39m\u001b[39m.\u001b[39mtext, \u001b[39m*\u001b[39m\u001b[39m*\u001b[39mkwargs)\n\u001b[1;32m    975\u001b[0m \u001b[39mexcept\u001b[39;00m JSONDecodeError \u001b[39mas\u001b[39;00m e:\n\u001b[1;32m    976\u001b[0m     \u001b[39m# Catch JSON-related errors and raise as requests.JSONDecodeError\u001b[39;00m\n\u001b[1;32m    977\u001b[0m     \u001b[39m# This aliases json.JSONDecodeError and simplejson.JSONDecodeError\u001b[39;00m\n\u001b[0;32m--> 978\u001b[0m     \u001b[39mraise\u001b[39;00m RequestsJSONDecodeError(e\u001b[39m.\u001b[39mmsg, e\u001b[39m.\u001b[39mdoc, e\u001b[39m.\u001b[39mpos)\n",
      "\u001b[0;31mJSONDecodeError\u001b[0m: Expecting value: line 1 column 1 (char 0)"
     ]
    }
   ],
   "source": [
    "def search_wikipedia(query: str) -> list[str]:\n",
    "    results = dspy.ColBERTv2(url='https://en.wikipedia.org/wiki/Not_Like_Us?action=edit')(query, k=3)\n",
    "    return [x['text'] for x in results]\n",
    "\n",
    "rag = dspy.ChainOfThought('context, question -> response')\n",
    "\n",
    "question = \"For which artist Kendrick Lamar wrote the diss track 'Not Like Us'?\"\n",
    "rag(context=search_wikipedia(question), question=question)"
   ]
  },
  {
   "cell_type": "code",
   "execution_count": 13,
   "metadata": {},
   "outputs": [
    {
     "name": "stdout",
     "output_type": "stream",
     "text": [
      "10000\n"
     ]
    }
   ],
   "source": [
    "import wikipediaapi\n",
    "\n",
    "def search_wikipedia(query: str) -> str:\n",
    "    wiki_wiki = wikipediaapi.Wikipedia(\n",
    "        language='en',\n",
    "        user_agent=\"LLM-Assistant/1.0 (ecagatay93@email.com)\"\n",
    "    )\n",
    "    page = wiki_wiki.page(query)\n",
    "\n",
    "    if not page.exists():\n",
    "        return \"No relevant Wikipedia page found.\"\n",
    "\n",
    "    return page.text[:10000]  # Limit content for processing\n",
    "\n",
    "# Example usage\n",
    "# question = \"For which artist did Kendrick Lamar write the diss track 'Not Like Us'?\"\n",
    "context = search_wikipedia(\"2024 United States presidential election\")\n",
    "\n",
    "print(len(context) ) # Print a preview of the content\n"
   ]
  },
  {
   "cell_type": "code",
   "execution_count": 14,
   "metadata": {},
   "outputs": [
    {
     "name": "stdout",
     "output_type": "stream",
     "text": [
      "Presidential elections were held in the United States on November 5, 2024. The Republican Party's ticket—Donald Trump, who was the 45th president of the United States from 2017 to 2021, and JD Vance, the junior U.S. senator from Ohio—defeated the Democratic Party's ticket—Kamala Harris, the incumbent vice president, and Tim Walz, the 41st governor of Minnesota.\n",
      "The incumbent president, Joe Biden of the Democratic Party, initially ran for re-election as the party's presumptive nominee, facing little opposition and easily defeating Representative Dean Phillips during the Democratic primaries; however, what was broadly considered a poor debate performance in June 2024 intensified concerns about his age and health, and led to calls within his party for him to leave the race. After initially declining to do so, Biden withdrew on July 21, becoming the first eligible incumbent president to withdraw since Lyndon B. Johnson in 1968. Biden endorsed Harris, who was voted the party's nominee by the delegates on August 5, 2024. Harris selected Walz as her running mate. This was the first time since 2000 in which an incumbent vice president ran for president.\n",
      "Trump, who lost in 2020 to Biden, ran for re-election again. He was nominated during the 2024 Republican National Convention along with his running mate, Vance, after winning the Republican primaries by easily defeating former South Carolina Governor Nikki Haley. The Trump campaign made many false and misleading statements, including the claim that the 2020 election was stolen from Trump. Trump engaged in anti-immigrant fearmongering and promoted conspiracy theories. His political movement was described by historians and former Trump administration officials as authoritarian, featuring parallels to fascism, and using dehumanizing rhetoric toward his political opponents.\n",
      "Trump achieved victory in the Electoral College, winning 312 electoral votes to Harris' 226. Trump won every swing state, including the first win of Nevada by Republicans since 2004, in addition to holding on to all of the states that he won in 2020. Trump won the national popular vote with a plurality of 49.8%, making him the first Republican to do so since George W. Bush in 2004. Relative to the 2020 election, he improved his vote share among working class voters, particularly among young men, those without college degrees, and Hispanic voters. This election marked the first time since 1888 that three consecutive presidential elections were decided by fewer than 100 electoral votes. Trump became the first person since Grover Cleveland in 1892 to be elected to a non-consecutive second term.\n",
      "According to polls, the most important issues for voters were the economy, healthcare, democracy, foreign policy (notably U.S. support for Israel and for Ukraine), illegal immigration, abortion, and climate change. Education and LGBTQ rights were also prominent issues in the campaign. Polled voters consistently cited the economy, particularly inflation, as the most important issue in the election. Analysts attributed Harris' loss to the 2021–2023 inflation surge, a global anti-incumbent wave, the unpopularity of the Biden administration, and Trump's gains with the working class.\n",
      "\n",
      "Background\n",
      "The general election in November is an indirect election, in which voters cast ballots for a slate of members of the Electoral College; these electors then directly elect the president and vice president. Election offices are dealing with increased workloads and public scrutiny. Officials in many states have sought additional funding to hire more personnel, improve security, and extend training. Numerous election offices are dealing with an increase in retirements and are overwhelmed with public records requests, owing in part to the electoral mistrust planted by former President Trump's loss in the 2020 election.\n",
      "\n",
      "Trump is the first president in American history to be impeached twice, and the first to run again after impeachment. As Trump was acquitted by the Senate in both cases, he was not barred from seeking reelection to the presidency in 2024.This is the first presidential election to occur after the reapportionment of votes in the Electoral College following the 2020 United States census and redistricting cycle.\n",
      "The seven swing states in the 2024 election were the Rust Belt states of Wisconsin, Michigan, and Pennsylvania, as well as the Sun Belt states of Arizona, Georgia, Nevada, and North Carolina. Trump secured victory in all seven states. The three Midwestern swing states had historically been part of the \"blue wall\" ever since Bill Clinton's win in 1992, but broke for Trump in 2016, when he had previously faced a female Democratic candidate, Hillary Clinton.\n",
      "\n",
      "Election interference\n",
      "Several state courts and officials, including the Colorado Supreme Court, a state Circuit Court in Illinois, and the Secretary of State of Maine, ruled that Trump was ineligible to hold office under Section 3 of the Fourteenth Amendment to the United States Constitution for his role in the January 6 Capitol attack, and thus attempted to disqualify him from appearing on the ballot. These attempts were unsuccessful, and on March 4, 2024, the U.S. Supreme Court unanimously ruled in Trump v. Anderson that states cannot determine eligibility for a national election under Section 3, and only Congress has the authority to disqualify candidates, or to pass legislation that allows courts to do so.\n",
      "\n",
      "Donald Trump's false claims of interference\n",
      "Trump made false claims of voter fraud in the 2020 presidential election, and continued denying the election results. Election security experts warned that officials who deny the legitimacy of the 2020 presidential election may attempt to impede the voting process, or refuse to certify the 2024 results. In July 2024, The New York Times reported that \"the Republican Party and its conservative allies are engaged in an unprecedented legal campaign targeting the American voting system\", by restricting voting for partisan advantage ahead of Election Day and preparing to mount \"legally dubious\" challenges against the certification process if Trump were to lose.\n",
      "In the lead up to the 2024 election, the Republican Party made false claims of massive \"noncitizen voting\" by immigrants in an attempt to delegitimize the election in the event of a Trump defeat. The claims were made as part of larger Republican Party efforts to disrupt the 2024 election and election denial movement. Trump continued spreading his \"big lie\" of a stolen election and predicted without evidence that the 2024 election would be rigged against him. Trump also falsely accused Biden of \"weaponizing\" the Justice Department to target him in relation to his criminal trials. Trump and several Republicans  stated they would not accept the results of the 2024 election if they believe they are \"unfair\".\n",
      "Trump's previous comments suggesting he can \"terminate\" the Constitution to reverse his election loss, his claim that he would only be a dictator on \"day one\" of his presidency and not after, his promise to use the Justice Department to go after his political enemies, his plan to use the Insurrection Act of 1807 to deploy the military for law enforcement in primarily Democratic cities and states, attempts to overturn the 2020 United States presidential election, continued Republican efforts to restrict voting following the 2020 presidential election, Trump's baseless predictions of voter fraud in the 2024 election, and Trump's public embrace and celebration of the January 6 United States Capitol attack, raised concerns over the state of democracy in the United States. Trump's political operation said that it planned to deploy more than 100,000 attorneys and volunteers to polling places across battleground states, with an \"election integrity hotline\" for poll watchers and voters to report alleged voting irregularities.\n",
      "\n",
      "Interference by foreign nations\n",
      "Before the election, U.S. officials and former officials stated that foreign interference in the 2024 election was likely. Three major factors cited were \"America's deepening domestic political crises, the collapse of controversial attempts to control political speech on social media, and the rise of generative AI\". China, Russia, and Iran were identified as mounting influence operations and attempts to interfere with the 2024 election. U.S. intelligence officials described the efforts as part of broader efforts by authoritarian nations to use the internet to erode support for democracy.\n",
      "\n",
      "China\n",
      "China was identified as interfering with the 2024 election through propaganda and disinformation campaigns linked to its Spamouflage operation. U.S. intelligence agencies described the effort as not targeting any particular candidate but focusing on issues important to the Chinese government, such as Taiwan, and \"undermining confidence in elections, voting, and the U.S. in general\". As early as April 1, 2024, The New York Times reported that the Chinese government had created fake pro-Trump accounts on social media \"promoting conspiracy theories, stoking domestic divisions and attacking President Biden ahead of the election in November\".\n",
      "\n",
      "Russia\n",
      "According to disinformation experts and intelligence agencies, Russia spread disinformation ahead of the 2024 election to damage Biden and Democrats, boost candidates supporting isolationism, and undercut support for Ukraine aid and NATO. On September 4, 2024, the United States publicly accused Russia of interfering in the 2024 election and announced several steps to combat Russian influence including sanctions, indictments, and seizing of web domains used to spread propaganda and disinformation. U.S. intelligence agencies assessed that Russia preferred Trump to win the election, viewing him as more critical of American support for Ukraine.\n",
      "\n",
      "Iran\n",
      "Iran was identified as interfering with the 2024 presidential election through front companies connected to the Islamic Revolutionary Guard\n"
     ]
    }
   ],
   "source": [
    "print(context)"
   ]
  },
  {
   "cell_type": "code",
   "execution_count": 15,
   "metadata": {},
   "outputs": [
    {
     "data": {
      "text/plain": [
       "Prediction(\n",
       "    reasoning=\"The context mentions that Donald Trump ran for re-election in 2024 and was nominated along with his running mate, JD Vance. The article does not mention any other candidates as Trump's running mate.\",\n",
       "    response='JD Vance'\n",
       ")"
      ]
     },
     "execution_count": 15,
     "metadata": {},
     "output_type": "execute_result"
    }
   ],
   "source": [
    "rag = dspy.ChainOfThought('context, question -> response')\n",
    "\n",
    "question = \"What is the name of running mate of Donald Trump in 2024?\"\n",
    "rag(context=context, question=question)"
   ]
  },
  {
   "cell_type": "code",
   "execution_count": 16,
   "metadata": {},
   "outputs": [
    {
     "data": {
      "text/plain": [
       "Prediction(\n",
       "    reasoning='The context provided mentions that Donald Trump falsely claimed there was voter fraud in the 2020 presidential election, which he denied after losing. This includes his baseless predictions about voter fraud in 2024 as well as his claims of election interference.',\n",
       "    response='Yes, Trump claimed that the 2020 election was rigged and made false claims about voter fraud to deny the results.'\n",
       ")"
      ]
     },
     "execution_count": 16,
     "metadata": {},
     "output_type": "execute_result"
    }
   ],
   "source": [
    "rag = dspy.ChainOfThought('context, question -> response')\n",
    "\n",
    "question = \"Did trump claim that the 2020 elections were rigged?\"\n",
    "rag(context=context, question=question)"
   ]
  },
  {
   "cell_type": "markdown",
   "metadata": {},
   "source": [
    "# Classification"
   ]
  },
  {
   "cell_type": "code",
   "execution_count": 26,
   "metadata": {},
   "outputs": [
    {
     "data": {
      "text/plain": [
       "Prediction(\n",
       "    sentiment='positive',\n",
       "    confidence=0.8\n",
       ")"
      ]
     },
     "execution_count": 26,
     "metadata": {},
     "output_type": "execute_result"
    }
   ],
   "source": [
    "from typing import Literal\n",
    "\n",
    "class Classify(dspy.Signature):\n",
    "    \"\"\"Classify sentiment of a given sentence.\"\"\"\n",
    "\n",
    "    sentence: str = dspy.InputField()\n",
    "    sentiment: Literal['positive', 'negative', 'neutral'] = dspy.OutputField()\n",
    "    confidence: float = dspy.OutputField()\n",
    "\n",
    "classify = dspy.Predict(Classify)\n",
    "classify(sentence=\"This book was super fun to read\")"
   ]
  },
  {
   "cell_type": "markdown",
   "metadata": {},
   "source": [
    "# Information Extraction"
   ]
  },
  {
   "cell_type": "code",
   "execution_count": 23,
   "metadata": {},
   "outputs": [],
   "source": [
    "class ExtractInfo(dspy.Signature):\n",
    "    \"\"\"Extract structured information from text.\"\"\"\n",
    "\n",
    "    text: str = dspy.InputField()\n",
    "    title: str = dspy.OutputField()\n",
    "    headings: str = dspy.OutputField(desc=\"a JSON string representing a list of headings\")\n",
    "    entities: str = dspy.OutputField(desc=\"a JSON string representing a list of entities and their metadata\")\n"
   ]
  },
  {
   "cell_type": "code",
   "execution_count": null,
   "metadata": {},
   "outputs": [],
   "source": [
    "import json\n",
    "\n",
    "module = dspy.Predict(ExtractInfo)\n",
    "text = \"Apple Inc. announced its latest iPhone 14 today.\" \\\n",
    "    \"The CEO, Tim Cook, highlighted its new features in a press release.\"\n",
    "response = module(text=text)\n",
    "\n",
    "print(\"Raw response:\", repr(response))\n",
    "print(response.title)\n",
    "print(response.headings)\n",
    "print(response.entities)\n"
   ]
  },
  {
   "cell_type": "code",
   "execution_count": 137,
   "metadata": {},
   "outputs": [],
   "source": [
    "class ExtractInfo(dspy.Signature):\n",
    "    \"\"\"Extract structured information from text.\"\"\"\n",
    "\n",
    "    text: str = dspy.InputField()\n",
    "    title: str = dspy.OutputField()\n",
    "    headings: list[str] = dspy.OutputField()\n",
    "    entities: list[dict[str, str]] = dspy.OutputField(desc=\"a list of entities and their metadata\")"
   ]
  },
  {
   "cell_type": "code",
   "execution_count": 138,
   "metadata": {},
   "outputs": [
    {
     "name": "stdout",
     "output_type": "stream",
     "text": [
      "Raw response: Prediction(\n",
      "    title='Submerged Vessel Incident Near Sag Harbor Entrance',\n",
      "    headings=['Vessel Identification', 'Position', 'Mariner Caution'],\n",
      "    entities=[{'name': 'Vessel Tag', 'value': 'tag zero one decimal eight two north zero seven two'}, {'name': 'Position', 'value': 'four one tag zero one decimal eight two north zero seven two west'}, {'name': 'Direction', 'value': 'zero zero west'}, {'name': 'Warning', 'value': 'break the coast guard recieved a report of a vessel that is submerged in the vicinity of Sag Harbor entrance'}]\n",
      ")\n",
      "Submerged Vessel Incident Near Sag Harbor Entrance\n",
      "['Vessel Identification', 'Position', 'Mariner Caution']\n",
      "[{'name': 'Vessel Tag', 'value': 'tag zero one decimal eight two north zero seven two'}, {'name': 'Position', 'value': 'four one tag zero one decimal eight two north zero seven two west'}, {'name': 'Direction', 'value': 'zero zero west'}, {'name': 'Warning', 'value': 'break the coast guard recieved a report of a vessel that is submerged in the vicinity of Sag Harbor entrance'}]\n"
     ]
    }
   ],
   "source": [
    "import json\n",
    "\n",
    "module = dspy.Predict(ExtractInfo)\n",
    "text = \"securite securite all stations this is United States Coast Guard Sector Long Island Sound break the coast guard recieved a report of a vessel that is submerged in the vicinity of Sag Harbor entrance in broad position four one tag zero one decimal eight two north zero seven two tag one eight decimal zero zero west all mariners are requested caution when transiting the area break this is United States Coast Guard Sector Long Island Sound out\"\n",
    "response = module(text=text)\n",
    "\n",
    "print(\"Raw response:\", repr(response))\n",
    "print(response.title)\n",
    "print(response.headings)\n",
    "print(response.entities)"
   ]
  },
  {
   "cell_type": "code",
   "execution_count": 1,
   "metadata": {},
   "outputs": [
    {
     "ename": "NameError",
     "evalue": "name 'dspy' is not defined",
     "output_type": "error",
     "traceback": [
      "\u001b[0;31m---------------------------------------------------------------------------\u001b[0m",
      "\u001b[0;31mNameError\u001b[0m                                 Traceback (most recent call last)",
      "Cell \u001b[0;32mIn[1], line 1\u001b[0m\n\u001b[0;32m----> 1\u001b[0m \u001b[39mclass\u001b[39;00m\u001b[39m \u001b[39m\u001b[39mExtractInfo\u001b[39;00m(dspy\u001b[39m.\u001b[39mSignature):\n\u001b[1;32m      2\u001b[0m \u001b[39m    \u001b[39m\u001b[39m\"\"\"Extract structured information from text.\"\"\"\u001b[39;00m\n\u001b[1;32m      4\u001b[0m     text: \u001b[39mstr\u001b[39m \u001b[39m=\u001b[39m dspy\u001b[39m.\u001b[39mInputField()\n",
      "\u001b[0;31mNameError\u001b[0m: name 'dspy' is not defined"
     ]
    }
   ],
   "source": [
    "class ExtractInfo(dspy.Signature):\n",
    "    \"\"\"Extract structured information from text.\"\"\"\n",
    "\n",
    "    text: str = dspy.InputField()\n",
    "    title: str = dspy.OutputField()\n",
    "    headings: str = dspy.OutputField(desc=\"a JSON string representing a list of headings\")\n",
    "    entities: str = dspy.OutputField(desc=\"a JSON string representing a list of entities and their metadata\")"
   ]
  },
  {
   "cell_type": "code",
   "execution_count": 141,
   "metadata": {},
   "outputs": [
    {
     "name": "stdout",
     "output_type": "stream",
     "text": [
      "Raw response: Prediction(\n",
      "    title='Kotka VTS',\n",
      "    headings='[\\n  \"Kotka VTS\",\\n  \"Vessel Strandvej\"\\n]',\n",
      "    entities='[\\n  {\\n    \"name\": \"Kotka VTS\",\\n    \"type\": \"ship_name\",\\n    \"description\": \"A vessel named Kotka VTS.\"\\n  },\\n  {\\n    \"name\": \"Onki\",\\n    \"type\": \"person_name\",\\n    \"description\": \"A person\\'s name, Onki.\"\\n  },\\n  {\\n    \"name\": \"Tavasland\",\\n    \"type\": \"location_or_area\",\\n    \"description\": \"A location or area named Tavasland.\"\\n  }\\n]'\n",
      ")\n",
      "Kotka VTS\n",
      "[\n",
      "  \"Kotka VTS\",\n",
      "  \"Vessel Strandvej\"\n",
      "]\n",
      "[\n",
      "  {\n",
      "    \"name\": \"Kotka VTS\",\n",
      "    \"type\": \"ship_name\",\n",
      "    \"description\": \"A vessel named Kotka VTS.\"\n",
      "  },\n",
      "  {\n",
      "    \"name\": \"Onki\",\n",
      "    \"type\": \"person_name\",\n",
      "    \"description\": \"A person's name, Onki.\"\n",
      "  },\n",
      "  {\n",
      "    \"name\": \"Tavasland\",\n",
      "    \"type\": \"location_or_area\",\n",
      "    \"description\": \"A location or area named Tavasland.\"\n",
      "  }\n",
      "]\n"
     ]
    }
   ],
   "source": [
    "import json\n",
    "\n",
    "module = dspy.Predict(ExtractInfo)\n",
    "text = \"Kotka VTS, Onki, hyvää iltapäivää. Vessel Strandvej, this is Tavasland.\"\n",
    "response = module(text=text)\n",
    "\n",
    "print(\"Raw response:\", repr(response))\n",
    "print(response.title)\n",
    "print(response.headings)\n",
    "print(response.entities)"
   ]
  },
  {
   "cell_type": "code",
   "execution_count": null,
   "metadata": {},
   "outputs": [],
   "source": []
  },
  {
   "cell_type": "markdown",
   "metadata": {},
   "source": [
    "# Agents"
   ]
  },
  {
   "cell_type": "code",
   "execution_count": 143,
   "metadata": {},
   "outputs": [
    {
     "ename": "KeyboardInterrupt",
     "evalue": "",
     "output_type": "error",
     "traceback": [
      "\u001b[0;31m---------------------------------------------------------------------------\u001b[0m",
      "\u001b[0;31mKeyboardInterrupt\u001b[0m                         Traceback (most recent call last)",
      "Cell \u001b[0;32mIn[143], line 10\u001b[0m\n\u001b[1;32m      6\u001b[0m     \u001b[39mreturn\u001b[39;00m [x[\u001b[39m'\u001b[39m\u001b[39mtext\u001b[39m\u001b[39m'\u001b[39m] \u001b[39mfor\u001b[39;00m x \u001b[39min\u001b[39;00m results]\n\u001b[1;32m      8\u001b[0m react \u001b[39m=\u001b[39m dspy\u001b[39m.\u001b[39mReAct(\u001b[39m\"\u001b[39m\u001b[39mquestion -> answer: float\u001b[39m\u001b[39m\"\u001b[39m, tools\u001b[39m=\u001b[39m[evaluate_math, search_wikipedia])\n\u001b[0;32m---> 10\u001b[0m pred \u001b[39m=\u001b[39m react(question\u001b[39m=\u001b[39;49m\u001b[39m\"\u001b[39;49m\u001b[39mWhat is 9362158 divided by the year of birth of David Gregory of Kinnairdy castle?\u001b[39;49m\u001b[39m\"\u001b[39;49m)\n\u001b[1;32m     11\u001b[0m \u001b[39mprint\u001b[39m(pred\u001b[39m.\u001b[39manswer)\n",
      "File \u001b[0;32m~/miniforge3/envs/llm-assistant/lib/python3.13/site-packages/dspy/utils/callback.py:234\u001b[0m, in \u001b[0;36mwith_callbacks.<locals>.wrapper\u001b[0;34m(instance, *args, **kwargs)\u001b[0m\n\u001b[1;32m    232\u001b[0m \u001b[39m# If no callbacks are provided, just call the function\u001b[39;00m\n\u001b[1;32m    233\u001b[0m \u001b[39mif\u001b[39;00m \u001b[39mnot\u001b[39;00m callbacks:\n\u001b[0;32m--> 234\u001b[0m     \u001b[39mreturn\u001b[39;00m fn(instance, \u001b[39m*\u001b[39;49margs, \u001b[39m*\u001b[39;49m\u001b[39m*\u001b[39;49mkwargs)\n\u001b[1;32m    236\u001b[0m \u001b[39m# Generate call ID as the unique identifier for the call, this is useful for instrumentation.\u001b[39;00m\n\u001b[1;32m    237\u001b[0m call_id \u001b[39m=\u001b[39m uuid\u001b[39m.\u001b[39muuid4()\u001b[39m.\u001b[39mhex\n",
      "File \u001b[0;32m~/miniforge3/envs/llm-assistant/lib/python3.13/site-packages/dspy/primitives/program.py:22\u001b[0m, in \u001b[0;36mModule.__call__\u001b[0;34m(self, *args, **kwargs)\u001b[0m\n\u001b[1;32m     20\u001b[0m \u001b[39m@with_callbacks\u001b[39m\n\u001b[1;32m     21\u001b[0m \u001b[39mdef\u001b[39;00m\u001b[39m \u001b[39m\u001b[39m__call__\u001b[39m(\u001b[39mself\u001b[39m, \u001b[39m*\u001b[39margs, \u001b[39m*\u001b[39m\u001b[39m*\u001b[39mkwargs):\n\u001b[0;32m---> 22\u001b[0m     \u001b[39mreturn\u001b[39;00m \u001b[39mself\u001b[39;49m\u001b[39m.\u001b[39;49mforward(\u001b[39m*\u001b[39;49margs, \u001b[39m*\u001b[39;49m\u001b[39m*\u001b[39;49mkwargs)\n",
      "File \u001b[0;32m~/miniforge3/envs/llm-assistant/lib/python3.13/site-packages/dspy/predict/react.py:148\u001b[0m, in \u001b[0;36mReAct.forward\u001b[0;34m(self, **input_args)\u001b[0m\n\u001b[1;32m    146\u001b[0m                 \u001b[39mcontinue\u001b[39;00m\n\u001b[1;32m    147\u001b[0m         parsed_tool_args[k] \u001b[39m=\u001b[39m v\n\u001b[0;32m--> 148\u001b[0m     trajectory[\u001b[39mf\u001b[39m\u001b[39m\"\u001b[39m\u001b[39mobservation_\u001b[39m\u001b[39m{\u001b[39;00midx\u001b[39m}\u001b[39;00m\u001b[39m\"\u001b[39m] \u001b[39m=\u001b[39m \u001b[39mself\u001b[39;49m\u001b[39m.\u001b[39;49mtools[pred\u001b[39m.\u001b[39;49mnext_tool_name](\u001b[39m*\u001b[39;49m\u001b[39m*\u001b[39;49mparsed_tool_args)\n\u001b[1;32m    149\u001b[0m \u001b[39mexcept\u001b[39;00m \u001b[39mException\u001b[39;00m \u001b[39mas\u001b[39;00m e:\n\u001b[1;32m    150\u001b[0m     trajectory[\u001b[39mf\u001b[39m\u001b[39m\"\u001b[39m\u001b[39mobservation_\u001b[39m\u001b[39m{\u001b[39;00midx\u001b[39m}\u001b[39;00m\u001b[39m\"\u001b[39m] \u001b[39m=\u001b[39m \u001b[39mf\u001b[39m\u001b[39m\"\u001b[39m\u001b[39mFailed to execute: \u001b[39m\u001b[39m{\u001b[39;00me\u001b[39m}\u001b[39;00m\u001b[39m\"\u001b[39m\n",
      "File \u001b[0;32m~/miniforge3/envs/llm-assistant/lib/python3.13/site-packages/dspy/utils/callback.py:234\u001b[0m, in \u001b[0;36mwith_callbacks.<locals>.wrapper\u001b[0;34m(instance, *args, **kwargs)\u001b[0m\n\u001b[1;32m    232\u001b[0m \u001b[39m# If no callbacks are provided, just call the function\u001b[39;00m\n\u001b[1;32m    233\u001b[0m \u001b[39mif\u001b[39;00m \u001b[39mnot\u001b[39;00m callbacks:\n\u001b[0;32m--> 234\u001b[0m     \u001b[39mreturn\u001b[39;00m fn(instance, \u001b[39m*\u001b[39;49margs, \u001b[39m*\u001b[39;49m\u001b[39m*\u001b[39;49mkwargs)\n\u001b[1;32m    236\u001b[0m \u001b[39m# Generate call ID as the unique identifier for the call, this is useful for instrumentation.\u001b[39;00m\n\u001b[1;32m    237\u001b[0m call_id \u001b[39m=\u001b[39m uuid\u001b[39m.\u001b[39muuid4()\u001b[39m.\u001b[39mhex\n",
      "File \u001b[0;32m~/miniforge3/envs/llm-assistant/lib/python3.13/site-packages/dspy/predict/react.py:59\u001b[0m, in \u001b[0;36mTool.__call__\u001b[0;34m(self, *args, **kwargs)\u001b[0m\n\u001b[1;32m     57\u001b[0m \u001b[39m@with_callbacks\u001b[39m\n\u001b[1;32m     58\u001b[0m \u001b[39mdef\u001b[39;00m\u001b[39m \u001b[39m\u001b[39m__call__\u001b[39m(\u001b[39mself\u001b[39m, \u001b[39m*\u001b[39margs, \u001b[39m*\u001b[39m\u001b[39m*\u001b[39mkwargs):\n\u001b[0;32m---> 59\u001b[0m     \u001b[39mreturn\u001b[39;00m \u001b[39mself\u001b[39;49m\u001b[39m.\u001b[39;49mfunc(\u001b[39m*\u001b[39;49margs, \u001b[39m*\u001b[39;49m\u001b[39m*\u001b[39;49mkwargs)\n",
      "Cell \u001b[0;32mIn[143], line 5\u001b[0m, in \u001b[0;36msearch_wikipedia\u001b[0;34m(query)\u001b[0m\n\u001b[1;32m      4\u001b[0m \u001b[39mdef\u001b[39;00m\u001b[39m \u001b[39m\u001b[39msearch_wikipedia\u001b[39m(query: \u001b[39mstr\u001b[39m):\n\u001b[0;32m----> 5\u001b[0m     results \u001b[39m=\u001b[39m dspy\u001b[39m.\u001b[39;49mColBERTv2(url\u001b[39m=\u001b[39;49m\u001b[39m'\u001b[39;49m\u001b[39mhttp://20.102.90.50:2017/wiki17_abstracts\u001b[39;49m\u001b[39m'\u001b[39;49m)(query, k\u001b[39m=\u001b[39;49m\u001b[39m3\u001b[39;49m)\n\u001b[1;32m      6\u001b[0m     \u001b[39mreturn\u001b[39;00m [x[\u001b[39m'\u001b[39m\u001b[39mtext\u001b[39m\u001b[39m'\u001b[39m] \u001b[39mfor\u001b[39;00m x \u001b[39min\u001b[39;00m results]\n",
      "File \u001b[0;32m~/miniforge3/envs/llm-assistant/lib/python3.13/site-packages/dspy/dsp/colbertv2.py:30\u001b[0m, in \u001b[0;36mColBERTv2.__call__\u001b[0;34m(self, query, k, simplify)\u001b[0m\n\u001b[1;32m     28\u001b[0m     topk: \u001b[39mlist\u001b[39m[\u001b[39mdict\u001b[39m[\u001b[39mstr\u001b[39m, Any]] \u001b[39m=\u001b[39m colbertv2_post_request(\u001b[39mself\u001b[39m\u001b[39m.\u001b[39murl, query, k)\n\u001b[1;32m     29\u001b[0m \u001b[39melse\u001b[39;00m:\n\u001b[0;32m---> 30\u001b[0m     topk: \u001b[39mlist\u001b[39m[\u001b[39mdict\u001b[39m[\u001b[39mstr\u001b[39m, Any]] \u001b[39m=\u001b[39m colbertv2_get_request(\u001b[39mself\u001b[39;49m\u001b[39m.\u001b[39;49murl, query, k)\n\u001b[1;32m     32\u001b[0m \u001b[39mif\u001b[39;00m simplify:\n\u001b[1;32m     33\u001b[0m     \u001b[39mreturn\u001b[39;00m [psg[\u001b[39m\"\u001b[39m\u001b[39mlong_text\u001b[39m\u001b[39m\"\u001b[39m] \u001b[39mfor\u001b[39;00m psg \u001b[39min\u001b[39;00m topk]\n",
      "File \u001b[0;32m~/miniforge3/envs/llm-assistant/lib/python3.13/site-packages/dspy/dsp/cache_utils.py:16\u001b[0m, in \u001b[0;36mnoop_decorator.<locals>.decorator.<locals>.wrapper\u001b[0;34m(*args, **kwargs)\u001b[0m\n\u001b[1;32m     14\u001b[0m \u001b[39m@wraps\u001b[39m(func)\n\u001b[1;32m     15\u001b[0m \u001b[39mdef\u001b[39;00m\u001b[39m \u001b[39m\u001b[39mwrapper\u001b[39m(\u001b[39m*\u001b[39margs, \u001b[39m*\u001b[39m\u001b[39m*\u001b[39mkwargs):\n\u001b[0;32m---> 16\u001b[0m     \u001b[39mreturn\u001b[39;00m func(\u001b[39m*\u001b[39;49margs, \u001b[39m*\u001b[39;49m\u001b[39m*\u001b[39;49mkwargs)\n",
      "File \u001b[0;32m~/miniforge3/envs/llm-assistant/lib/python3.13/site-packages/dspy/dsp/colbertv2.py:55\u001b[0m, in \u001b[0;36mcolbertv2_get_request_v2_wrapped\u001b[0;34m(*args, **kwargs)\u001b[0m\n\u001b[1;32m     52\u001b[0m \u001b[39m@functools\u001b[39m\u001b[39m.\u001b[39mcache\n\u001b[1;32m     53\u001b[0m \u001b[39m@NotebookCacheMemory\u001b[39m\u001b[39m.\u001b[39mcache\n\u001b[1;32m     54\u001b[0m \u001b[39mdef\u001b[39;00m\u001b[39m \u001b[39m\u001b[39mcolbertv2_get_request_v2_wrapped\u001b[39m(\u001b[39m*\u001b[39margs, \u001b[39m*\u001b[39m\u001b[39m*\u001b[39mkwargs):\n\u001b[0;32m---> 55\u001b[0m     \u001b[39mreturn\u001b[39;00m colbertv2_get_request_v2(\u001b[39m*\u001b[39;49margs, \u001b[39m*\u001b[39;49m\u001b[39m*\u001b[39;49mkwargs)\n",
      "File \u001b[0;32m~/miniforge3/envs/llm-assistant/lib/python3.13/site-packages/joblib/memory.py:577\u001b[0m, in \u001b[0;36mMemorizedFunc.__call__\u001b[0;34m(self, *args, **kwargs)\u001b[0m\n\u001b[1;32m    575\u001b[0m \u001b[39mdef\u001b[39;00m\u001b[39m \u001b[39m\u001b[39m__call__\u001b[39m(\u001b[39mself\u001b[39m, \u001b[39m*\u001b[39margs, \u001b[39m*\u001b[39m\u001b[39m*\u001b[39mkwargs):\n\u001b[1;32m    576\u001b[0m     \u001b[39m# Return the output, without the metadata\u001b[39;00m\n\u001b[0;32m--> 577\u001b[0m     \u001b[39mreturn\u001b[39;00m \u001b[39mself\u001b[39;49m\u001b[39m.\u001b[39;49m_cached_call(args, kwargs, shelving\u001b[39m=\u001b[39;49m\u001b[39mFalse\u001b[39;49;00m)[\u001b[39m0\u001b[39m]\n",
      "File \u001b[0;32m~/miniforge3/envs/llm-assistant/lib/python3.13/site-packages/joblib/memory.py:532\u001b[0m, in \u001b[0;36mMemorizedFunc._cached_call\u001b[0;34m(self, args, kwargs, shelving)\u001b[0m\n\u001b[1;32m    526\u001b[0m     \u001b[39mself\u001b[39m\u001b[39m.\u001b[39mwarn(\n\u001b[1;32m    527\u001b[0m         \u001b[39mf\u001b[39m\u001b[39m\"\u001b[39m\u001b[39mComputing func \u001b[39m\u001b[39m{\u001b[39;00mfunc_name\u001b[39m}\u001b[39;00m\u001b[39m, argument hash \u001b[39m\u001b[39m{\u001b[39;00margs_id\u001b[39m}\u001b[39;00m\u001b[39m \u001b[39m\u001b[39m\"\u001b[39m\n\u001b[1;32m    528\u001b[0m         \u001b[39mf\u001b[39m\u001b[39m\"\u001b[39m\u001b[39min location \u001b[39m\u001b[39m{\u001b[39;00mlocation\u001b[39m}\u001b[39;00m\u001b[39m\"\u001b[39m\n\u001b[1;32m    529\u001b[0m     )\n\u001b[1;32m    531\u001b[0m \u001b[39m# Returns the output but not the metadata\u001b[39;00m\n\u001b[0;32m--> 532\u001b[0m \u001b[39mreturn\u001b[39;00m \u001b[39mself\u001b[39;49m\u001b[39m.\u001b[39;49m_call(call_id, args, kwargs, shelving)\n",
      "File \u001b[0;32m~/miniforge3/envs/llm-assistant/lib/python3.13/site-packages/joblib/memory.py:771\u001b[0m, in \u001b[0;36mMemorizedFunc._call\u001b[0;34m(self, call_id, args, kwargs, shelving)\u001b[0m\n\u001b[1;32m    769\u001b[0m \u001b[39mself\u001b[39m\u001b[39m.\u001b[39m_before_call(args, kwargs)\n\u001b[1;32m    770\u001b[0m start_time \u001b[39m=\u001b[39m time\u001b[39m.\u001b[39mtime()\n\u001b[0;32m--> 771\u001b[0m output \u001b[39m=\u001b[39m \u001b[39mself\u001b[39;49m\u001b[39m.\u001b[39;49mfunc(\u001b[39m*\u001b[39;49margs, \u001b[39m*\u001b[39;49m\u001b[39m*\u001b[39;49mkwargs)\n\u001b[1;32m    772\u001b[0m \u001b[39mreturn\u001b[39;00m \u001b[39mself\u001b[39m\u001b[39m.\u001b[39m_after_call(call_id, args, kwargs, shelving,\n\u001b[1;32m    773\u001b[0m                         output, start_time)\n",
      "File \u001b[0;32m~/miniforge3/envs/llm-assistant/lib/python3.13/site-packages/dspy/dsp/colbertv2.py:45\u001b[0m, in \u001b[0;36mcolbertv2_get_request_v2\u001b[0;34m(url, query, k)\u001b[0m\n\u001b[1;32m     40\u001b[0m \u001b[39massert\u001b[39;00m (\n\u001b[1;32m     41\u001b[0m     k \u001b[39m<\u001b[39m\u001b[39m=\u001b[39m \u001b[39m100\u001b[39m\n\u001b[1;32m     42\u001b[0m ), \u001b[39m\"\u001b[39m\u001b[39mOnly k <= 100 is supported for the hosted ColBERTv2 server at the moment.\u001b[39m\u001b[39m\"\u001b[39m\n\u001b[1;32m     44\u001b[0m payload \u001b[39m=\u001b[39m {\u001b[39m\"\u001b[39m\u001b[39mquery\u001b[39m\u001b[39m\"\u001b[39m: query, \u001b[39m\"\u001b[39m\u001b[39mk\u001b[39m\u001b[39m\"\u001b[39m: k}\n\u001b[0;32m---> 45\u001b[0m res \u001b[39m=\u001b[39m requests\u001b[39m.\u001b[39;49mget(url, params\u001b[39m=\u001b[39;49mpayload, timeout\u001b[39m=\u001b[39;49m\u001b[39m10\u001b[39;49m)\n\u001b[1;32m     47\u001b[0m topk \u001b[39m=\u001b[39m res\u001b[39m.\u001b[39mjson()[\u001b[39m\"\u001b[39m\u001b[39mtopk\u001b[39m\u001b[39m\"\u001b[39m][:k]\n\u001b[1;32m     48\u001b[0m topk \u001b[39m=\u001b[39m [{\u001b[39m*\u001b[39m\u001b[39m*\u001b[39md, \u001b[39m\"\u001b[39m\u001b[39mlong_text\u001b[39m\u001b[39m\"\u001b[39m: d[\u001b[39m\"\u001b[39m\u001b[39mtext\u001b[39m\u001b[39m\"\u001b[39m]} \u001b[39mfor\u001b[39;00m d \u001b[39min\u001b[39;00m topk]\n",
      "File \u001b[0;32m~/miniforge3/envs/llm-assistant/lib/python3.13/site-packages/requests/api.py:73\u001b[0m, in \u001b[0;36mget\u001b[0;34m(url, params, **kwargs)\u001b[0m\n\u001b[1;32m     62\u001b[0m \u001b[39mdef\u001b[39;00m\u001b[39m \u001b[39m\u001b[39mget\u001b[39m(url, params\u001b[39m=\u001b[39m\u001b[39mNone\u001b[39;00m, \u001b[39m*\u001b[39m\u001b[39m*\u001b[39mkwargs):\n\u001b[1;32m     63\u001b[0m \u001b[39m    \u001b[39m\u001b[39mr\u001b[39m\u001b[39m\"\"\"Sends a GET request.\u001b[39;00m\n\u001b[1;32m     64\u001b[0m \n\u001b[1;32m     65\u001b[0m \u001b[39m    :param url: URL for the new :class:`Request` object.\u001b[39;00m\n\u001b[0;32m   (...)\u001b[0m\n\u001b[1;32m     70\u001b[0m \u001b[39m    :rtype: requests.Response\u001b[39;00m\n\u001b[1;32m     71\u001b[0m \u001b[39m    \"\"\"\u001b[39;00m\n\u001b[0;32m---> 73\u001b[0m     \u001b[39mreturn\u001b[39;00m request(\u001b[39m\"\u001b[39;49m\u001b[39mget\u001b[39;49m\u001b[39m\"\u001b[39;49m, url, params\u001b[39m=\u001b[39;49mparams, \u001b[39m*\u001b[39;49m\u001b[39m*\u001b[39;49mkwargs)\n",
      "File \u001b[0;32m~/miniforge3/envs/llm-assistant/lib/python3.13/site-packages/requests/api.py:59\u001b[0m, in \u001b[0;36mrequest\u001b[0;34m(method, url, **kwargs)\u001b[0m\n\u001b[1;32m     55\u001b[0m \u001b[39m# By using the 'with' statement we are sure the session is closed, thus we\u001b[39;00m\n\u001b[1;32m     56\u001b[0m \u001b[39m# avoid leaving sockets open which can trigger a ResourceWarning in some\u001b[39;00m\n\u001b[1;32m     57\u001b[0m \u001b[39m# cases, and look like a memory leak in others.\u001b[39;00m\n\u001b[1;32m     58\u001b[0m \u001b[39mwith\u001b[39;00m sessions\u001b[39m.\u001b[39mSession() \u001b[39mas\u001b[39;00m session:\n\u001b[0;32m---> 59\u001b[0m     \u001b[39mreturn\u001b[39;00m session\u001b[39m.\u001b[39;49mrequest(method\u001b[39m=\u001b[39;49mmethod, url\u001b[39m=\u001b[39;49murl, \u001b[39m*\u001b[39;49m\u001b[39m*\u001b[39;49mkwargs)\n",
      "File \u001b[0;32m~/miniforge3/envs/llm-assistant/lib/python3.13/site-packages/requests/sessions.py:589\u001b[0m, in \u001b[0;36mSession.request\u001b[0;34m(self, method, url, params, data, headers, cookies, files, auth, timeout, allow_redirects, proxies, hooks, stream, verify, cert, json)\u001b[0m\n\u001b[1;32m    584\u001b[0m send_kwargs \u001b[39m=\u001b[39m {\n\u001b[1;32m    585\u001b[0m     \u001b[39m\"\u001b[39m\u001b[39mtimeout\u001b[39m\u001b[39m\"\u001b[39m: timeout,\n\u001b[1;32m    586\u001b[0m     \u001b[39m\"\u001b[39m\u001b[39mallow_redirects\u001b[39m\u001b[39m\"\u001b[39m: allow_redirects,\n\u001b[1;32m    587\u001b[0m }\n\u001b[1;32m    588\u001b[0m send_kwargs\u001b[39m.\u001b[39mupdate(settings)\n\u001b[0;32m--> 589\u001b[0m resp \u001b[39m=\u001b[39m \u001b[39mself\u001b[39;49m\u001b[39m.\u001b[39;49msend(prep, \u001b[39m*\u001b[39;49m\u001b[39m*\u001b[39;49msend_kwargs)\n\u001b[1;32m    591\u001b[0m \u001b[39mreturn\u001b[39;00m resp\n",
      "File \u001b[0;32m~/miniforge3/envs/llm-assistant/lib/python3.13/site-packages/requests/sessions.py:703\u001b[0m, in \u001b[0;36mSession.send\u001b[0;34m(self, request, **kwargs)\u001b[0m\n\u001b[1;32m    700\u001b[0m start \u001b[39m=\u001b[39m preferred_clock()\n\u001b[1;32m    702\u001b[0m \u001b[39m# Send the request\u001b[39;00m\n\u001b[0;32m--> 703\u001b[0m r \u001b[39m=\u001b[39m adapter\u001b[39m.\u001b[39;49msend(request, \u001b[39m*\u001b[39;49m\u001b[39m*\u001b[39;49mkwargs)\n\u001b[1;32m    705\u001b[0m \u001b[39m# Total elapsed time of the request (approximately)\u001b[39;00m\n\u001b[1;32m    706\u001b[0m elapsed \u001b[39m=\u001b[39m preferred_clock() \u001b[39m-\u001b[39m start\n",
      "File \u001b[0;32m~/miniforge3/envs/llm-assistant/lib/python3.13/site-packages/requests/adapters.py:667\u001b[0m, in \u001b[0;36mHTTPAdapter.send\u001b[0;34m(self, request, stream, timeout, verify, cert, proxies)\u001b[0m\n\u001b[1;32m    664\u001b[0m     timeout \u001b[39m=\u001b[39m TimeoutSauce(connect\u001b[39m=\u001b[39mtimeout, read\u001b[39m=\u001b[39mtimeout)\n\u001b[1;32m    666\u001b[0m \u001b[39mtry\u001b[39;00m:\n\u001b[0;32m--> 667\u001b[0m     resp \u001b[39m=\u001b[39m conn\u001b[39m.\u001b[39;49murlopen(\n\u001b[1;32m    668\u001b[0m         method\u001b[39m=\u001b[39;49mrequest\u001b[39m.\u001b[39;49mmethod,\n\u001b[1;32m    669\u001b[0m         url\u001b[39m=\u001b[39;49murl,\n\u001b[1;32m    670\u001b[0m         body\u001b[39m=\u001b[39;49mrequest\u001b[39m.\u001b[39;49mbody,\n\u001b[1;32m    671\u001b[0m         headers\u001b[39m=\u001b[39;49mrequest\u001b[39m.\u001b[39;49mheaders,\n\u001b[1;32m    672\u001b[0m         redirect\u001b[39m=\u001b[39;49m\u001b[39mFalse\u001b[39;49;00m,\n\u001b[1;32m    673\u001b[0m         assert_same_host\u001b[39m=\u001b[39;49m\u001b[39mFalse\u001b[39;49;00m,\n\u001b[1;32m    674\u001b[0m         preload_content\u001b[39m=\u001b[39;49m\u001b[39mFalse\u001b[39;49;00m,\n\u001b[1;32m    675\u001b[0m         decode_content\u001b[39m=\u001b[39;49m\u001b[39mFalse\u001b[39;49;00m,\n\u001b[1;32m    676\u001b[0m         retries\u001b[39m=\u001b[39;49m\u001b[39mself\u001b[39;49m\u001b[39m.\u001b[39;49mmax_retries,\n\u001b[1;32m    677\u001b[0m         timeout\u001b[39m=\u001b[39;49mtimeout,\n\u001b[1;32m    678\u001b[0m         chunked\u001b[39m=\u001b[39;49mchunked,\n\u001b[1;32m    679\u001b[0m     )\n\u001b[1;32m    681\u001b[0m \u001b[39mexcept\u001b[39;00m (ProtocolError, \u001b[39mOSError\u001b[39;00m) \u001b[39mas\u001b[39;00m err:\n\u001b[1;32m    682\u001b[0m     \u001b[39mraise\u001b[39;00m \u001b[39mConnectionError\u001b[39;00m(err, request\u001b[39m=\u001b[39mrequest)\n",
      "File \u001b[0;32m~/miniforge3/envs/llm-assistant/lib/python3.13/site-packages/urllib3/connectionpool.py:787\u001b[0m, in \u001b[0;36mHTTPConnectionPool.urlopen\u001b[0;34m(self, method, url, body, headers, retries, redirect, assert_same_host, timeout, pool_timeout, release_conn, chunked, body_pos, preload_content, decode_content, **response_kw)\u001b[0m\n\u001b[1;32m    784\u001b[0m response_conn \u001b[39m=\u001b[39m conn \u001b[39mif\u001b[39;00m \u001b[39mnot\u001b[39;00m release_conn \u001b[39melse\u001b[39;00m \u001b[39mNone\u001b[39;00m\n\u001b[1;32m    786\u001b[0m \u001b[39m# Make the request on the HTTPConnection object\u001b[39;00m\n\u001b[0;32m--> 787\u001b[0m response \u001b[39m=\u001b[39m \u001b[39mself\u001b[39;49m\u001b[39m.\u001b[39;49m_make_request(\n\u001b[1;32m    788\u001b[0m     conn,\n\u001b[1;32m    789\u001b[0m     method,\n\u001b[1;32m    790\u001b[0m     url,\n\u001b[1;32m    791\u001b[0m     timeout\u001b[39m=\u001b[39;49mtimeout_obj,\n\u001b[1;32m    792\u001b[0m     body\u001b[39m=\u001b[39;49mbody,\n\u001b[1;32m    793\u001b[0m     headers\u001b[39m=\u001b[39;49mheaders,\n\u001b[1;32m    794\u001b[0m     chunked\u001b[39m=\u001b[39;49mchunked,\n\u001b[1;32m    795\u001b[0m     retries\u001b[39m=\u001b[39;49mretries,\n\u001b[1;32m    796\u001b[0m     response_conn\u001b[39m=\u001b[39;49mresponse_conn,\n\u001b[1;32m    797\u001b[0m     preload_content\u001b[39m=\u001b[39;49mpreload_content,\n\u001b[1;32m    798\u001b[0m     decode_content\u001b[39m=\u001b[39;49mdecode_content,\n\u001b[1;32m    799\u001b[0m     \u001b[39m*\u001b[39;49m\u001b[39m*\u001b[39;49mresponse_kw,\n\u001b[1;32m    800\u001b[0m )\n\u001b[1;32m    802\u001b[0m \u001b[39m# Everything went great!\u001b[39;00m\n\u001b[1;32m    803\u001b[0m clean_exit \u001b[39m=\u001b[39m \u001b[39mTrue\u001b[39;00m\n",
      "File \u001b[0;32m~/miniforge3/envs/llm-assistant/lib/python3.13/site-packages/urllib3/connectionpool.py:493\u001b[0m, in \u001b[0;36mHTTPConnectionPool._make_request\u001b[0;34m(self, conn, method, url, body, headers, retries, timeout, chunked, response_conn, preload_content, decode_content, enforce_content_length)\u001b[0m\n\u001b[1;32m    490\u001b[0m \u001b[39m# conn.request() calls http.client.*.request, not the method in\u001b[39;00m\n\u001b[1;32m    491\u001b[0m \u001b[39m# urllib3.request. It also calls makefile (recv) on the socket.\u001b[39;00m\n\u001b[1;32m    492\u001b[0m \u001b[39mtry\u001b[39;00m:\n\u001b[0;32m--> 493\u001b[0m     conn\u001b[39m.\u001b[39;49mrequest(\n\u001b[1;32m    494\u001b[0m         method,\n\u001b[1;32m    495\u001b[0m         url,\n\u001b[1;32m    496\u001b[0m         body\u001b[39m=\u001b[39;49mbody,\n\u001b[1;32m    497\u001b[0m         headers\u001b[39m=\u001b[39;49mheaders,\n\u001b[1;32m    498\u001b[0m         chunked\u001b[39m=\u001b[39;49mchunked,\n\u001b[1;32m    499\u001b[0m         preload_content\u001b[39m=\u001b[39;49mpreload_content,\n\u001b[1;32m    500\u001b[0m         decode_content\u001b[39m=\u001b[39;49mdecode_content,\n\u001b[1;32m    501\u001b[0m         enforce_content_length\u001b[39m=\u001b[39;49menforce_content_length,\n\u001b[1;32m    502\u001b[0m     )\n\u001b[1;32m    504\u001b[0m \u001b[39m# We are swallowing BrokenPipeError (errno.EPIPE) since the server is\u001b[39;00m\n\u001b[1;32m    505\u001b[0m \u001b[39m# legitimately able to close the connection after sending a valid response.\u001b[39;00m\n\u001b[1;32m    506\u001b[0m \u001b[39m# With this behaviour, the received response is still readable.\u001b[39;00m\n\u001b[1;32m    507\u001b[0m \u001b[39mexcept\u001b[39;00m \u001b[39mBrokenPipeError\u001b[39;00m:\n",
      "File \u001b[0;32m~/miniforge3/envs/llm-assistant/lib/python3.13/site-packages/urllib3/connection.py:445\u001b[0m, in \u001b[0;36mHTTPConnection.request\u001b[0;34m(self, method, url, body, headers, chunked, preload_content, decode_content, enforce_content_length)\u001b[0m\n\u001b[1;32m    443\u001b[0m \u001b[39mfor\u001b[39;00m header, value \u001b[39min\u001b[39;00m headers\u001b[39m.\u001b[39mitems():\n\u001b[1;32m    444\u001b[0m     \u001b[39mself\u001b[39m\u001b[39m.\u001b[39mputheader(header, value)\n\u001b[0;32m--> 445\u001b[0m \u001b[39mself\u001b[39;49m\u001b[39m.\u001b[39;49mendheaders()\n\u001b[1;32m    447\u001b[0m \u001b[39m# If we're given a body we start sending that in chunks.\u001b[39;00m\n\u001b[1;32m    448\u001b[0m \u001b[39mif\u001b[39;00m chunks \u001b[39mis\u001b[39;00m \u001b[39mnot\u001b[39;00m \u001b[39mNone\u001b[39;00m:\n",
      "File \u001b[0;32m~/miniforge3/envs/llm-assistant/lib/python3.13/http/client.py:1331\u001b[0m, in \u001b[0;36mHTTPConnection.endheaders\u001b[0;34m(self, message_body, encode_chunked)\u001b[0m\n\u001b[1;32m   1329\u001b[0m \u001b[39melse\u001b[39;00m:\n\u001b[1;32m   1330\u001b[0m     \u001b[39mraise\u001b[39;00m CannotSendHeader()\n\u001b[0;32m-> 1331\u001b[0m \u001b[39mself\u001b[39;49m\u001b[39m.\u001b[39;49m_send_output(message_body, encode_chunked\u001b[39m=\u001b[39;49mencode_chunked)\n",
      "File \u001b[0;32m~/miniforge3/envs/llm-assistant/lib/python3.13/http/client.py:1091\u001b[0m, in \u001b[0;36mHTTPConnection._send_output\u001b[0;34m(self, message_body, encode_chunked)\u001b[0m\n\u001b[1;32m   1089\u001b[0m msg \u001b[39m=\u001b[39m \u001b[39mb\u001b[39m\u001b[39m\"\u001b[39m\u001b[39m\\r\u001b[39;00m\u001b[39m\\n\u001b[39;00m\u001b[39m\"\u001b[39m\u001b[39m.\u001b[39mjoin(\u001b[39mself\u001b[39m\u001b[39m.\u001b[39m_buffer)\n\u001b[1;32m   1090\u001b[0m \u001b[39mdel\u001b[39;00m \u001b[39mself\u001b[39m\u001b[39m.\u001b[39m_buffer[:]\n\u001b[0;32m-> 1091\u001b[0m \u001b[39mself\u001b[39;49m\u001b[39m.\u001b[39;49msend(msg)\n\u001b[1;32m   1093\u001b[0m \u001b[39mif\u001b[39;00m message_body \u001b[39mis\u001b[39;00m \u001b[39mnot\u001b[39;00m \u001b[39mNone\u001b[39;00m:\n\u001b[1;32m   1094\u001b[0m \n\u001b[1;32m   1095\u001b[0m     \u001b[39m# create a consistent interface to message_body\u001b[39;00m\n\u001b[1;32m   1096\u001b[0m     \u001b[39mif\u001b[39;00m \u001b[39mhasattr\u001b[39m(message_body, \u001b[39m'\u001b[39m\u001b[39mread\u001b[39m\u001b[39m'\u001b[39m):\n\u001b[1;32m   1097\u001b[0m         \u001b[39m# Let file-like take precedence over byte-like.  This\u001b[39;00m\n\u001b[1;32m   1098\u001b[0m         \u001b[39m# is needed to allow the current position of mmap'ed\u001b[39;00m\n\u001b[1;32m   1099\u001b[0m         \u001b[39m# files to be taken into account.\u001b[39;00m\n",
      "File \u001b[0;32m~/miniforge3/envs/llm-assistant/lib/python3.13/http/client.py:1035\u001b[0m, in \u001b[0;36mHTTPConnection.send\u001b[0;34m(self, data)\u001b[0m\n\u001b[1;32m   1033\u001b[0m \u001b[39mif\u001b[39;00m \u001b[39mself\u001b[39m\u001b[39m.\u001b[39msock \u001b[39mis\u001b[39;00m \u001b[39mNone\u001b[39;00m:\n\u001b[1;32m   1034\u001b[0m     \u001b[39mif\u001b[39;00m \u001b[39mself\u001b[39m\u001b[39m.\u001b[39mauto_open:\n\u001b[0;32m-> 1035\u001b[0m         \u001b[39mself\u001b[39;49m\u001b[39m.\u001b[39;49mconnect()\n\u001b[1;32m   1036\u001b[0m     \u001b[39melse\u001b[39;00m:\n\u001b[1;32m   1037\u001b[0m         \u001b[39mraise\u001b[39;00m NotConnected()\n",
      "File \u001b[0;32m~/miniforge3/envs/llm-assistant/lib/python3.13/site-packages/urllib3/connection.py:276\u001b[0m, in \u001b[0;36mHTTPConnection.connect\u001b[0;34m(self)\u001b[0m\n\u001b[1;32m    275\u001b[0m \u001b[39mdef\u001b[39;00m\u001b[39m \u001b[39m\u001b[39mconnect\u001b[39m(\u001b[39mself\u001b[39m) \u001b[39m-\u001b[39m\u001b[39m>\u001b[39m \u001b[39mNone\u001b[39;00m:\n\u001b[0;32m--> 276\u001b[0m     \u001b[39mself\u001b[39m\u001b[39m.\u001b[39msock \u001b[39m=\u001b[39m \u001b[39mself\u001b[39;49m\u001b[39m.\u001b[39;49m_new_conn()\n\u001b[1;32m    277\u001b[0m     \u001b[39mif\u001b[39;00m \u001b[39mself\u001b[39m\u001b[39m.\u001b[39m_tunnel_host:\n\u001b[1;32m    278\u001b[0m         \u001b[39m# If we're tunneling it means we're connected to our proxy.\u001b[39;00m\n\u001b[1;32m    279\u001b[0m         \u001b[39mself\u001b[39m\u001b[39m.\u001b[39m_has_connected_to_proxy \u001b[39m=\u001b[39m \u001b[39mTrue\u001b[39;00m\n",
      "File \u001b[0;32m~/miniforge3/envs/llm-assistant/lib/python3.13/site-packages/urllib3/connection.py:198\u001b[0m, in \u001b[0;36mHTTPConnection._new_conn\u001b[0;34m(self)\u001b[0m\n\u001b[1;32m    193\u001b[0m \u001b[39m\u001b[39m\u001b[39m\"\"\"Establish a socket connection and set nodelay settings on it.\u001b[39;00m\n\u001b[1;32m    194\u001b[0m \n\u001b[1;32m    195\u001b[0m \u001b[39m:return: New socket connection.\u001b[39;00m\n\u001b[1;32m    196\u001b[0m \u001b[39m\"\"\"\u001b[39;00m\n\u001b[1;32m    197\u001b[0m \u001b[39mtry\u001b[39;00m:\n\u001b[0;32m--> 198\u001b[0m     sock \u001b[39m=\u001b[39m connection\u001b[39m.\u001b[39;49mcreate_connection(\n\u001b[1;32m    199\u001b[0m         (\u001b[39mself\u001b[39;49m\u001b[39m.\u001b[39;49m_dns_host, \u001b[39mself\u001b[39;49m\u001b[39m.\u001b[39;49mport),\n\u001b[1;32m    200\u001b[0m         \u001b[39mself\u001b[39;49m\u001b[39m.\u001b[39;49mtimeout,\n\u001b[1;32m    201\u001b[0m         source_address\u001b[39m=\u001b[39;49m\u001b[39mself\u001b[39;49m\u001b[39m.\u001b[39;49msource_address,\n\u001b[1;32m    202\u001b[0m         socket_options\u001b[39m=\u001b[39;49m\u001b[39mself\u001b[39;49m\u001b[39m.\u001b[39;49msocket_options,\n\u001b[1;32m    203\u001b[0m     )\n\u001b[1;32m    204\u001b[0m \u001b[39mexcept\u001b[39;00m socket\u001b[39m.\u001b[39mgaierror \u001b[39mas\u001b[39;00m e:\n\u001b[1;32m    205\u001b[0m     \u001b[39mraise\u001b[39;00m NameResolutionError(\u001b[39mself\u001b[39m\u001b[39m.\u001b[39mhost, \u001b[39mself\u001b[39m, e) \u001b[39mfrom\u001b[39;00m\u001b[39m \u001b[39m\u001b[39me\u001b[39;00m\n",
      "File \u001b[0;32m~/miniforge3/envs/llm-assistant/lib/python3.13/site-packages/urllib3/util/connection.py:73\u001b[0m, in \u001b[0;36mcreate_connection\u001b[0;34m(address, timeout, source_address, socket_options)\u001b[0m\n\u001b[1;32m     71\u001b[0m \u001b[39mif\u001b[39;00m source_address:\n\u001b[1;32m     72\u001b[0m     sock\u001b[39m.\u001b[39mbind(source_address)\n\u001b[0;32m---> 73\u001b[0m sock\u001b[39m.\u001b[39;49mconnect(sa)\n\u001b[1;32m     74\u001b[0m \u001b[39m# Break explicitly a reference cycle\u001b[39;00m\n\u001b[1;32m     75\u001b[0m err \u001b[39m=\u001b[39m \u001b[39mNone\u001b[39;00m\n",
      "\u001b[0;31mKeyboardInterrupt\u001b[0m: "
     ]
    }
   ],
   "source": [
    "def evaluate_math(expression: str):\n",
    "    return dspy.PythonInterpreter({}).execute(expression)\n",
    "\n",
    "def search_wikipedia(query: str):\n",
    "    results = dspy.ColBERTv2(url='http://20.102.90.50:2017/wiki17_abstracts')(query, k=3)\n",
    "    return [x['text'] for x in results]\n",
    "\n",
    "react = dspy.ReAct(\"question -> answer: float\", tools=[evaluate_math, search_wikipedia])\n",
    "\n",
    "pred = react(question=\"What is 9362158 divided by the year of birth of David Gregory of Kinnairdy castle?\")\n",
    "print(pred.answer)"
   ]
  },
  {
   "cell_type": "markdown",
   "metadata": {},
   "source": [
    "# Multi-Stage Pipelines"
   ]
  },
  {
   "cell_type": "code",
   "execution_count": null,
   "metadata": {},
   "outputs": [],
   "source": []
  },
  {
   "cell_type": "code",
   "execution_count": null,
   "metadata": {},
   "outputs": [],
   "source": []
  }
 ],
 "metadata": {
  "kernelspec": {
   "display_name": "Python 3.13.1 ('llm-assistant')",
   "language": "python",
   "name": "python3"
  },
  "language_info": {
   "codemirror_mode": {
    "name": "ipython",
    "version": 3
   },
   "file_extension": ".py",
   "mimetype": "text/x-python",
   "name": "python",
   "nbconvert_exporter": "python",
   "pygments_lexer": "ipython3",
   "version": "3.13.1"
  },
  "orig_nbformat": 4,
  "vscode": {
   "interpreter": {
    "hash": "4f5d55a1ce58292716dc692e51d545a364fdcbf96d2173792e35ede8640fb9dc"
   }
  }
 },
 "nbformat": 4,
 "nbformat_minor": 2
}
